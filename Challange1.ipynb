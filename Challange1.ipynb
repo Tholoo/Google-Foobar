{
 "metadata": {
  "language_info": {
   "codemirror_mode": {
    "name": "ipython",
    "version": 3
   },
   "file_extension": ".py",
   "mimetype": "text/x-python",
   "name": "python",
   "nbconvert_exporter": "python",
   "pygments_lexer": "ipython3",
   "version": "3.7.0-final"
  },
  "orig_nbformat": 2,
  "kernelspec": {
   "name": "python3",
   "display_name": "Python 3",
   "language": "python"
  }
 },
 "nbformat": 4,
 "nbformat_minor": 2,
 "cells": [
  {
   "cell_type": "code",
   "execution_count": 106,
   "metadata": {
    "pycharm": {
     "name": "#%%\n"
    }
   },
   "outputs": [],
   "source": [
    "# Level 1 - Challange 1: cut 5 prime numbers at the given index \n",
    "primes = '2'\n",
    "num_to_cut = 5\n",
    "\n",
    "def is_prime(n):\n",
    "    for i in range(2,n):\n",
    "        if n%i==0: return False\n",
    "    return True\n",
    "\n",
    "def make_primes(wanted):\n",
    "    global primes\n",
    "    n = int(primes[-1])\n",
    "    n = n + 1 if n%2==0 else n+2\n",
    "    while len(primes) <= wanted:\n",
    "        if is_prime(n): \n",
    "            primes += str(n)\n",
    "        n+=2\n",
    "\n",
    "def solution(i):\n",
    "    if len(primes) < i+num_to_cut:\n",
    "        make_primes(i+num_to_cut)\n",
    "    return primes[i:i+num_to_cut]\n",
    "    "
   ]
  },
  {
   "cell_type": "code",
   "execution_count": null,
   "metadata": {
    "pycharm": {
     "name": "#%%\n"
    }
   },
   "outputs": [],
   "source": [
    "solution(5)"
   ]
  },
  {
   "cell_type": "code",
   "execution_count": 362,
   "metadata": {
    "pycharm": {
     "name": "#%%\n"
    }
   },
   "outputs": [],
   "source": [
    "# Level 2 - Challange 1: find the first subset in l in which the sum equals t\n",
    "def solution(l, t):\n",
    "    for index in range(0, len(l)):\n",
    "        s = l[index]\n",
    "        if s == t: return [index,index]\n",
    "        for i in range(index,len(l)-1):\n",
    "            n = l[i+1]\n",
    "            if s == t: return [index, i]\n",
    "            s += n\n",
    "    return [-1, -1]"
   ]
  },
  {
   "cell_type": "code",
   "execution_count": 370,
   "metadata": {
    "pycharm": {
     "name": "#%%\n"
    }
   },
   "outputs": [
    {
     "output_type": "execute_result",
     "data": {
      "text/plain": [
       "[0, 2]"
      ]
     },
     "metadata": {},
     "execution_count": 370
    }
   ],
   "source": [
    "l = [4,3,5,7,8]\n",
    "t = 12\n",
    "solution(l, t)\n",
    "l = [2,3,4]\n",
    "t = 15\n",
    "solution(l, t)"
   ]
  },
  {
   "cell_type": "code",
   "execution_count": 167,
   "metadata": {
    "pycharm": {
     "name": "#%%\n"
    }
   },
   "outputs": [],
   "source": [
    "# Level 2 - Challange 2: given a chessboard numbered from 0 to 63 starting from top left corner, what is the minimum amount of moves a knight has to make to go from src to dest\n",
    " \n",
    "# from math import inf\n",
    "inf = float(\"inf\")\n",
    "dim = 8\n",
    "\n",
    "def get_xy(index):\n",
    "    return [index%dim, index//dim]\n",
    "\n",
    "def possible_moves(x, y):\n",
    "    moves = [[-2,-1],[-2,1],[2,-1],[2,1],[1,-2],[-1,-2],[1,2],[-1,2]]\n",
    "    possibles = []\n",
    "    for x_mov, y_mov in moves:\n",
    "        new_x = x + x_mov\n",
    "        new_y = y + y_mov\n",
    "        if (0<=new_x<dim and 0<=new_y<dim):\n",
    "            possibles.append([new_x, new_y])\n",
    "    return possibles\n",
    "\n",
    "def recurse(xy, num_taken, dstxy, visitedz):\n",
    "    global best_n\n",
    "    \n",
    "    p_moves = possible_moves(xy[0], xy[1])\n",
    "    if dstxy in p_moves:\n",
    "        best_n = min(best_n, num_taken+1)\n",
    "        return num_taken+1\n",
    "    \n",
    "    if num_taken >= best_n-1: \n",
    "        return inf\n",
    "\n",
    "    min_n = inf\n",
    "    for possible in p_moves:\n",
    "        if possible not in visitedz:\n",
    "            # visitedz_copy = visitedz.copy()\n",
    "            visitedz_copy = list(visitedz)\n",
    "            visitedz.append(possible)\n",
    "            n = recurse(possible, num_taken+1, dstxy, visitedz)\n",
    "            min_n = min(min_n, n)\n",
    "            visitedz = visitedz_copy\n",
    "            \n",
    "\n",
    "    return min_n\n",
    "\n",
    "def solution(src, dest):\n",
    "    global best_n\n",
    "    best_n = inf\n",
    "    return 0 if src == dest else recurse(get_xy(src), 0, get_xy(dest), [])"
   ]
  },
  {
   "cell_type": "code",
   "execution_count": 173,
   "metadata": {
    "tags": [],
    "pycharm": {
     "name": "#%%\n"
    }
   },
   "outputs": [
    {
     "output_type": "execute_result",
     "data": {
      "text/plain": [
       "3"
      ]
     },
     "metadata": {},
     "execution_count": 173
    }
   ],
   "source": [
    "solution(5,45)"
   ]
  },
  {
   "cell_type": "code",
   "execution_count": 138,
   "metadata": {
    "pycharm": {
     "name": "#%%\n"
    }
   },
   "outputs": [],
   "source": [
    "# Level 3 - Challange 1:\n",
    "def bfs_full(graph, start, end):\n",
    "    queue = [[start]]\n",
    "    while queue:\n",
    "        path = queue.pop(0)\n",
    "        node = path[-1]\n",
    "        if node == end: return path, len(path)\n",
    "\n",
    "        for neighbor in graph.get(node, []):\n",
    "            new_path = list(path)\n",
    "            new_path.append(neighbor)\n",
    "            queue.append(new_path)\n",
    "      \n",
    "def bfs(graph, start, end):\n",
    "    queue = [[start, 1]]\n",
    "    visited = [start]\n",
    "    while queue:\n",
    "        node_plen = queue.pop(0)\n",
    "        node, plen = node_plen\n",
    "        neighbors = graph.get(node, [])\n",
    "\n",
    "        if end in neighbors: return plen+1\n",
    "\n",
    "        for neighbor in neighbors:\n",
    "            if neighbor not in visited:\n",
    "                queue.append([neighbor, plen + 1])\n",
    "                visited.append(neighbor)\n",
    "    "
   ]
  },
  {
   "cell_type": "code",
   "execution_count": 259,
   "metadata": {
    "pycharm": {
     "name": "#%%\n"
    }
   },
   "outputs": [],
   "source": [
    "def bfs(grid, start_ij, end_ij, min_len):\n",
    "    queue = [[start_ij, 1]]\n",
    "    visited = [start_ij]\n",
    "    while queue:\n",
    "        node_plen = queue.pop(0)\n",
    "        node, plen = node_plen\n",
    "        neighbors = get_neighbors(grid, node)\n",
    "\n",
    "        if end_ij in neighbors: return plen + 1 \n",
    "        if plen >= min_len - 1: return\n",
    "\n",
    "        for neighbor in neighbors:\n",
    "            if neighbor not in visited:\n",
    "                queue.append([neighbor, plen + 1])\n",
    "                visited.append(neighbor)\n",
    "\n",
    "def get_neighbors(grid, ij):\n",
    "    neighbors = []\n",
    "    i, j = ij\n",
    "    neighbors_ij = [[1, 0], [-1, 0], [0, 1], [0, -1]]\n",
    "\n",
    "    for (n_i, n_j) in neighbors_ij:\n",
    "        r, c = i + n_i, j + n_j\n",
    "        if (0 <= r < len(grid)) and (0 <= c < len(grid[0])):\n",
    "            if grid[r][c] == 0: neighbors.append([r, c])\n",
    "    \n",
    "    return neighbors\n"
   ]
  },
  {
   "cell_type": "code",
   "execution_count": 258,
   "metadata": {
    "pycharm": {
     "name": "#%%\n"
    }
   },
   "outputs": [],
   "source": [
    "def possible_grids(grid):\n",
    "    yield grid\n",
    "    for i in range(len(grid)):\n",
    "        for j in range(len(grid[0])):\n",
    "            if grid[i][j] == 1:\n",
    "                grid_copy = [row[:] for row in grid]\n",
    "                grid_copy[i][j] = 0\n",
    "                yield grid_copy\n",
    "\n",
    "def solution(grid):\n",
    "    start, end = [0,0], [len(grid)-1, len(grid[0])-1]\n",
    "    min_len = float('inf')\n",
    "\n",
    "    # For each possible grid configuration (removing each wall) calculate the bfs length and update min_len\n",
    "    for p_grid in possible_grids(grid):\n",
    "        bfs_len = bfs(p_grid, start, end, min_len)\n",
    "        if bfs_len is not None:\n",
    "            min_len = min(min_len, bfs_len)\n",
    "    \n",
    "    return min_len\n",
    "\n"
   ]
  },
  {
   "cell_type": "code",
   "execution_count": 262,
   "metadata": {
    "pycharm": {
     "name": "#%%\n"
    }
   },
   "outputs": [
    {
     "output_type": "execute_result",
     "data": {
      "text/plain": [
       "7"
      ]
     },
     "metadata": {},
     "execution_count": 262
    }
   ],
   "source": [
    "grid = [[0, 1, 1, 0],\n",
    "        [0, 0, 0, 1], \n",
    "        [1, 1, 0, 0], \n",
    "        [1, 1, 1, 0]]\n",
    "\n",
    "# grid = [[0, 0, 0, 0],\n",
    "#         [0, 1, 0, 0], \n",
    "#         [1, 1, 0, 1], \n",
    "#         [0, 0, 0, 0]]\n",
    "\n",
    "\n",
    "# grid = [[0, 0, 0, 0, 0, 0], \n",
    "#         [1, 1, 1, 1, 1, 0], \n",
    "#         [0, 0, 0, 0, 0, 0], \n",
    "#         [0, 1, 1, 1, 1, 1], \n",
    "#         [0, 1, 1, 1, 1, 1], \n",
    "#         [0, 0, 0, 0, 0, 0]]\n",
    "\n",
    "# grid = [[0, 0, 0, 0],\n",
    "#         [0, 0, 1, 0], \n",
    "#         [1, 1, 1, 0], \n",
    "#         [0, 0, 0, 0]]\n",
    "\n",
    "# grid = [[0, 0, 0, 1, 0],\n",
    "#         [0, 0, 0, 0, 0], \n",
    "#         [1, 1, 1, 0, 1], \n",
    "#         [0, 0, 0, 0, 0]]\n",
    "\n",
    "solution(grid)"
   ]
  },
  {
   "cell_type": "code",
   "execution_count": 3,
   "metadata": {
    "pycharm": {
     "name": "#%%\n"
    }
   },
   "outputs": [],
   "source": [
    "# Level 3 - Challange 2:\n",
    "# * my code didn't save\n",
    "# def cut(n, length = 0):\n",
    "#     if n == 1: return length\n",
    "#     n /= 2\n",
    "#     length += 1\n",
    "#     if n%2==0:\n",
    "#         return min(cut(n+1), cut(n-1))\n",
    "#     else:\n",
    "#         return cut(n)\n",
    "\n",
    "\n",
    "# def solution(n):\n",
    "#     n = int(n)\n",
    "#     if n%2==0:\n",
    "#         return min(cut(n+1), cut(n-1))\n",
    "#     else:\n",
    "#         return cut(n)"
   ]
  },
  {
   "source": [
    "# Level 3 - Challange 3:\n",
    "In order to destroy Commander Lambda's LAMBCHOP doomsday device, you'll need access to it. But the only door leading to the LAMBCHOP chamber is secured with a unique lock system whose \n",
    "number of passcodes changes daily. Commander Lambda gets a report every day that includes the locks' access codes, but only she knows how to figure out which of several lists contains the \n",
    "access codes. You need to find a way to determine which list contains the access codes once you're ready to go in. \n",
    "\n",
    "Fortunately, now that you're Commander Lambda's personal assistant, she's confided to you that she made all the access codes \"lucky triples\" in order to help her better \n",
    "find them in the lists. A \"lucky triple\" is a tuple (x, y, z) where x divides y and y divides z, such as (1, 2, 4). With that information, you can figure out which list contains the \n",
    "number of access codes that matches the number of locks on the door when you're ready to go in (for example, if there's 5 passcodes, you'd need to find a list with 5 \"lucky \n",
    "triple\" access codes).\n",
    "\n",
    "Write a function solution(l) that takes a list of positive integers l and counts the number of \"lucky triples\" of (li, lj, lk) where the list indices meet the requirement i < j \n",
    "< k.  The length of l is between 2 and 2000 inclusive.  The elements of l are between 1 and 999999 inclusive.  The answer fits within a signed 32-bit integer. Some of the lists are \n",
    "purposely generated without any access codes to throw off spies, so if no triples are found, return 0. \n",
    "\n",
    "For example, [1, 2, 3, 4, 5, 6] has the triples: [1, 2, 4], [1, 2, 6], [1, 3, 6], making the answer 3 total."
   ],
   "cell_type": "markdown",
   "metadata": {
    "pycharm": {
     "name": "#%% md\n"
    }
   }
  },
  {
   "cell_type": "code",
   "execution_count": 94,
   "metadata": {
    "pycharm": {
     "name": "#%%\n"
    }
   },
   "outputs": [],
   "source": [
    "def get_triples(l, graph):\n",
    "    all_triples = 0\n",
    "    for (key, neighbors) in zip(l, graph):\n",
    "        for neighbor in neighbors:\n",
    "            all_triples += len(graph[neighbor])\n",
    "\n",
    "    return all_triples\n",
    "\n",
    "\n",
    "def solution(l):\n",
    "    graph = []\n",
    "    for i in range(len(l)):\n",
    "        key = l[i]\n",
    "        graph.append([])\n",
    "        for item_i in range(i+1,len(l)):\n",
    "            if i != item_i and l[item_i] % key == 0:\n",
    "                graph[i].append(item_i)\n",
    "    print(graph)\n",
    "    return get_triples(l, graph)      \n",
    "        "
   ]
  },
  {
   "cell_type": "code",
   "execution_count": 107,
   "metadata": {
    "pycharm": {
     "name": "#%%\n"
    }
   },
   "outputs": [],
   "source": [
    "def solution(l):\n",
    "    # Make a graph of which indices each item divides\n",
    "    graph = {}\n",
    "    for i in range(len(l)):\n",
    "        key = l[i]\n",
    "        for item_i in range(i+1,len(l)):\n",
    "            if i != item_i and l[item_i] % key == 0:\n",
    "                graph[i] = graph.get(i, []) + [item_i]\n",
    "\n",
    "    # Return the number of lucky triples\n",
    "    all_triples = 0\n",
    "    for neighbors in graph.values():\n",
    "        for neighbor in neighbors:\n",
    "            all_triples += len(graph.get(neighbor, []))\n",
    "\n",
    "    return all_triples"
   ]
  },
  {
   "cell_type": "code",
   "execution_count": 108,
   "metadata": {
    "pycharm": {
     "name": "#%%\n"
    }
   },
   "outputs": [
    {
     "output_type": "execute_result",
     "data": {
      "text/plain": [
       "3"
      ]
     },
     "metadata": {},
     "execution_count": 108
    }
   ],
   "source": [
    "solution([1, 2, 3, 4, 5, 6]) \n",
    "# solution([1,1,1])\n",
    "# solution([2,2,4,6])  "
   ]
  }
 ]
}